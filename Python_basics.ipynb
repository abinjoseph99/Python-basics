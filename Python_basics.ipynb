{
  "nbformat": 4,
  "nbformat_minor": 0,
  "metadata": {
    "colab": {
      "provenance": []
    },
    "kernelspec": {
      "name": "python3",
      "display_name": "Python 3"
    },
    "language_info": {
      "name": "python"
    }
  },
  "cells": [
    {
      "cell_type": "code",
      "execution_count": null,
      "metadata": {
        "id": "GO6f478shova"
      },
      "outputs": [],
      "source": []
    },
    {
      "cell_type": "markdown",
      "source": [
        "# Python basic questions\n",
        "1 What is Python, and why is it popular\n",
        "  - Python is a high-level, general-purpose programming language known for its readability and versatility. It emphasizes code readability with its clean syntax and indentation, making it easier to learn and use compared to some other languages.\n",
        "\n",
        " Here's why Python is so popular:\n",
        "\n",
        " Easy to learn: Python's syntax is designed to be intuitive and easy to understand, even for beginners. This makes it a great language for those new to programming.\n",
        " Versatile: Python can be used for a wide range of applications, including web development, data science, machine learning, scripting, and more.\n",
        "  Large community and extensive libraries: Python has a huge and active community, which means there are plenty of resources, tutorials, and support available. It also boasts a vast collection of libraries and frameworks that provide pre-built functions and tools for various tasks, saving developers time and effort.\n",
        "  Cross-platform: Python code can be run on different operating systems (Windows, macOS, Linux) without significant modifications, making it highly portable.\n",
        "  In-demand: Python skills are highly sought after in the job market, with many companies across various industries using Python for their projects.\n",
        "  Overall, Python's combination of readability, versatility, and strong community support has made it one of the most popular programming languages in the world.\n",
        "\n",
        "2  What is an interpreter in Python ?\n",
        "\n",
        "   - n Python, an interpreter is like a translator that reads and executes your code line by line. It takes your Python code, which is written in a human-readable language, and converts it into instructions that your computer can understand and run.\n",
        "\n",
        "  Here's a breakdown of how it works:\n",
        "\n",
        "  You write code: You write your Python code in a text file (usually with a .py extension). This code is your program.\n",
        "\n",
        "   Interpreter steps in: When you run your Python program, the interpreter comes into action. It reads your code line by line, from top to bottom.\n",
        "\n",
        "  Translating and executing: For each line of code, the interpreter analyzes it, figures out what it means, and then executes the corresponding instruction. This process happens repeatedly for every line of your code.\n",
        "\n",
        "  Getting results: As the interpreter executes your code, it produces the results you expect, whether it's printing something on the screen, performing calculations, or manipulating data.\n",
        "\n",
        " 3 What are pre-defined keywords in Python?\n",
        "\n",
        "  - In Python, pre-defined keywords are special words that have specific meanings and purposes within the language. They are reserved words that you cannot use as variable names, function names, or any other identifiers. These keywords are essential building blocks of the Python language and are used to define the structure and functionality of your code.\n",
        "\n",
        "   Examples of Python keywords\n",
        " Assert: Used to add debugging assertions to a program\n",
        "\n",
        " Def: Used to define a function that can be called and executed repeatedly\n",
        "\n",
        " Else: Used with conditional if statements and loops\n",
        "\n",
        " Lambda: Used to create inline returning functions\n",
        "\n",
        " None: Represents a null value\n",
        "\n",
        " Nonlocal: Used to declare a non-local variable\n",
        "\n",
        " Not: A logical operator\n",
        "\n",
        "  Del: Used to delete objects in Python\n",
        "\n",
        " Elif: Part of the if-elif-else conditional statement\n",
        "\n",
        "  4 Can keywords be used as variable names ?\n",
        "\n",
        "   - No, keywords cannot be used as variable names in Python. 1   Keywords are\n",
        "    reserved words with specific meanings within the Python language. 2   If you try to use a keyword as a variable name, you'll get a SyntaxError.\n",
        " 5  What is mutability in Python?\n",
        "   \n",
        "   - In Python, mutability refers to whether the value of an object can be changed after it is created. Objects in Python can be either mutable or immutable.\n",
        "\n",
        " Mutable objects:\n",
        "\n",
        " Can be changed after they are created.\n",
        " Their values can be modified in place, without creating a new object.\n",
        " Examples: lists, dictionaries, sets\n",
        "\n",
        " Immutable objects:\n",
        "Cannot be changed after they are created.\n",
        "Any operation that appears to modify an immutable object actually creates a new object with the modified value.\n",
        "Examples: numbers (integers, floats), strings, tuples\n",
        "\n",
        "6 Why are lists mutable, but tuples are immutable ?\n",
        "\n",
        "  -Tuples and lists are the same in every way except two: tuples use  \n",
        "   parentheses instead of square brackets, and the items in tuples cannot be\n",
        "   modified (but the items in lists can be modified). We often call lists mutable (meaning they can be changed) and tuples immutable (meaning they cannot be changed)\n",
        "\n",
        "   Lists are designed to be flexible and dynamic, allowing for frequent changes to their contents.\n",
        "\n",
        "  Tuples, on the other hand, are intended for fixed collections of items that shouldn't be altered\n",
        "\n",
        "  Immutability allows tuples to be more memory-efficient and faster to process than lists.\n",
        "\n",
        " Since their size and contents are fixed, Python can optimize their storage and access.\n",
        "\n",
        "7 What is the difference between “==” and “is” operators in Python?\n",
        "\n",
        "  - ==\n",
        " The equality operator compares the values of two objects. It checks the content or data of the objects.\n",
        "\n",
        " is\n",
        "\n",
        " The identity operator checks if two variables point to the same object in memory. It checks the object's identit\n",
        "\n",
        " 8 What are logical operators in Python ?\n",
        "\n",
        "   - Logical operators in Python are keywords that connect and evaluate multiple conditions in a single expression. They are used to make decisions based on specific conditions.\n",
        "\n",
        " The three logical operators in Python\n",
        "\n",
        " And: Returns true if both conditions are true\n",
        "\n",
        "  Or: Returns true if either condition is true\n",
        "\n",
        " Not: Reverses the result, returning false if the result is true\n",
        "\n",
        "9  What is type casting in Python?\n",
        "\n",
        "  -Type casting in Python is the process of converting a variable from one data type to another. This is also sometimes referred to as type conversion.\n",
        "\n",
        "10 What is the difference between implicit and explicit type casting ?\n",
        "\n",
        "   - The difference between implicit and explicit type casting in Python lies in who performs the conversion:\n",
        "\n",
        "  Implicit Type Casting (Coercion): This happens automatically by Python's interpreter during certain operations. Python tries to convert one data type to another to make the operation work without you explicitly telling it to.  This is also sometimes called \"coercion.\"\n",
        "\n",
        "  Explicit Type Casting: This is when you manually force a conversion from one data type to another using built-in functions like int(), float(), str(), etc.  You, the programmer, explicitly tell Python to do the conversion.\n",
        "\n",
        " 11  What is the purpose of conditional statements in Python?\n",
        "\n",
        "     - The purpose of conditional statements in Python (and in programming in general) is to control the flow of execution of your code based on whether certain conditions are met.  They allow your program to make decisions and execute different blocks of code depending on whether a condition evaluates to True or False\n",
        "\n",
        "  12  How does the elif statement work?\n",
        "\n",
        "      - The “elif” keyword in Python, stands for “else if”. It can be used in conditional statements to check for multiple conditions. For example, if the first condition is false, it moves on to the next “elif” statement to check if that condition is true.\n",
        "\n",
        "  13  What is the difference between for and while loops ?\n",
        "\n",
        "     - A \"for\" loop is used when you know exactly how many times you want to repeat a block of code (like iterating through a list), while a \"while\" loop repeats a block of code as long as a specific condition remains true, meaning you might not know beforehand how many times it will run; essentially, \"for\" is for a predetermined number of iterations, and \"while\" is for an unknown number of iterations based on a condition.\n",
        "\n",
        "  14  Describe a scenario where a while loop is more suitable than a for       loop\n",
        "\n",
        "\n",
        "      - A while loop is generally more suitable than a for loop when you don't know in advance how many times you need to iterate.  for loops are excellent when you have a definite sequence or range to iterate over.  while loops are better when the loop's termination depends on a condition that might not be predictable beforehand.     \n",
        "\n",
        "\n",
        "\n"
      ],
      "metadata": {
        "id": "tq77EgariKi_"
      }
    },
    {
      "cell_type": "code",
      "source": [
        "#  1 Write a Python program to print \"Hello, World!_\n",
        "\n",
        "print (\"hello world!\")"
      ],
      "metadata": {
        "colab": {
          "base_uri": "https://localhost:8080/"
        },
        "id": "G-jvchneA9cA",
        "outputId": "3641acd8-51cd-4fb1-b7b9-413346b87397"
      },
      "execution_count": null,
      "outputs": [
        {
          "output_type": "stream",
          "name": "stdout",
          "text": [
            "hello world!\n"
          ]
        }
      ]
    },
    {
      "cell_type": "code",
      "source": [
        "# 2  Write a Python program that displays your name and age\n",
        "name = (\"Abin joseph\")\n",
        "age = (\"25\")\n",
        "print(name)\n",
        "print(age)\n"
      ],
      "metadata": {
        "colab": {
          "base_uri": "https://localhost:8080/"
        },
        "id": "6nfrXVDJCF23",
        "outputId": "c0a84bc2-8a28-4951-ab53-6b69a3075003"
      },
      "execution_count": null,
      "outputs": [
        {
          "output_type": "stream",
          "name": "stdout",
          "text": [
            "Abin joseph\n",
            "25\n"
          ]
        }
      ]
    },
    {
      "cell_type": "code",
      "source": [
        "# 3 Write code to print all the pre-defined keywords in Python using the keyword library\n",
        "help(\"keywords\")"
      ],
      "metadata": {
        "colab": {
          "base_uri": "https://localhost:8080/"
        },
        "id": "7pEylW92DTw1",
        "outputId": "e395a222-7072-4d77-ca57-c1939b6f988d"
      },
      "execution_count": null,
      "outputs": [
        {
          "output_type": "stream",
          "name": "stdout",
          "text": [
            "\n",
            "Here is a list of the Python keywords.  Enter any keyword to get more help.\n",
            "\n",
            "False               class               from                or\n",
            "None                continue            global              pass\n",
            "True                def                 if                  raise\n",
            "and                 del                 import              return\n",
            "as                  elif                in                  try\n",
            "assert              else                is                  while\n",
            "async               except              lambda              with\n",
            "await               finally             nonlocal            yield\n",
            "break               for                 not                 \n",
            "\n"
          ]
        }
      ]
    },
    {
      "cell_type": "code",
      "source": [
        "# Write a program that checks if a given word is a Python keyword\n",
        "import keyword\n",
        "key_word= input(\"enter a keyword\")\n",
        "if keyword.iskeyword(key_word):\n",
        "\n",
        "    print(f\"'{key_word}' is a Python keyword.\")\n",
        "else:\n",
        "    print(f\"'{key_word}' is not a Python keyword.\")\n"
      ],
      "metadata": {
        "colab": {
          "base_uri": "https://localhost:8080/"
        },
        "id": "C6LRD8XWWifB",
        "outputId": "968f10ca-59af-45bd-e23a-21c9ad4f7d2b"
      },
      "execution_count": null,
      "outputs": [
        {
          "output_type": "stream",
          "name": "stdout",
          "text": [
            "enter a keywordelse\n",
            "'else' is a Python keyword.\n"
          ]
        }
      ]
    },
    {
      "cell_type": "code",
      "source": [
        "#5 Create a list and tuple in Python, and demonstrate how attempting to change an element works differently\n",
        "#for each\n",
        "my_list=[1,2,3,4,5,6,7,8,9]\n",
        "my_tuple=(1,2,3,4,5,6,7,8,9)\n",
        "my_list[2]=10\n",
        "print(my_list)\n",
        "my_tuple[2]=10\n",
        "print(my_tuple)\n",
        "\n"
      ],
      "metadata": {
        "colab": {
          "base_uri": "https://localhost:8080/",
          "height": 228
        },
        "id": "6Hm_arNZaKc1",
        "outputId": "0056dc39-775e-416f-fcca-cd942f6479e7"
      },
      "execution_count": null,
      "outputs": [
        {
          "output_type": "stream",
          "name": "stdout",
          "text": [
            "[1, 2, 10, 4, 5, 6, 7, 8, 9]\n"
          ]
        },
        {
          "output_type": "error",
          "ename": "TypeError",
          "evalue": "'tuple' object does not support item assignment",
          "traceback": [
            "\u001b[0;31m---------------------------------------------------------------------------\u001b[0m",
            "\u001b[0;31mTypeError\u001b[0m                                 Traceback (most recent call last)",
            "\u001b[0;32m<ipython-input-6-b2c7ed87b1ad>\u001b[0m in \u001b[0;36m<cell line: 0>\u001b[0;34m()\u001b[0m\n\u001b[1;32m      5\u001b[0m \u001b[0mmy_list\u001b[0m\u001b[0;34m[\u001b[0m\u001b[0;36m2\u001b[0m\u001b[0;34m]\u001b[0m\u001b[0;34m=\u001b[0m\u001b[0;36m10\u001b[0m\u001b[0;34m\u001b[0m\u001b[0;34m\u001b[0m\u001b[0m\n\u001b[1;32m      6\u001b[0m \u001b[0mprint\u001b[0m\u001b[0;34m(\u001b[0m\u001b[0mmy_list\u001b[0m\u001b[0;34m)\u001b[0m\u001b[0;34m\u001b[0m\u001b[0;34m\u001b[0m\u001b[0m\n\u001b[0;32m----> 7\u001b[0;31m \u001b[0mmy_tuple\u001b[0m\u001b[0;34m[\u001b[0m\u001b[0;36m2\u001b[0m\u001b[0;34m]\u001b[0m\u001b[0;34m=\u001b[0m\u001b[0;36m10\u001b[0m\u001b[0;34m\u001b[0m\u001b[0;34m\u001b[0m\u001b[0m\n\u001b[0m\u001b[1;32m      8\u001b[0m \u001b[0mprint\u001b[0m\u001b[0;34m(\u001b[0m\u001b[0mmy_tuple\u001b[0m\u001b[0;34m)\u001b[0m\u001b[0;34m\u001b[0m\u001b[0;34m\u001b[0m\u001b[0m\n\u001b[1;32m      9\u001b[0m \u001b[0;34m\u001b[0m\u001b[0m\n",
            "\u001b[0;31mTypeError\u001b[0m: 'tuple' object does not support item assignment"
          ]
        }
      ]
    },
    {
      "cell_type": "code",
      "source": [
        "# 60 Write a function to demonstrate the behavior of mutable and immutable\n",
        "# arguments\n",
        "my_list=[1,2,3,4,5,6,7,8,9]\n",
        "my_tuple=(1,2,3,4,5,6,7,8,9)\n",
        "my_list[2]=10\n",
        "print(my_list)\n",
        "my_tuple[2]=10\n",
        "print(my_tuple)\n",
        "\n"
      ],
      "metadata": {
        "colab": {
          "base_uri": "https://localhost:8080/",
          "height": 228
        },
        "id": "2cy8hSEQbq3g",
        "outputId": "bd52c416-e5b4-496c-9147-cb1d1dc2b1c4"
      },
      "execution_count": null,
      "outputs": [
        {
          "output_type": "stream",
          "name": "stdout",
          "text": [
            "[1, 2, 10, 4, 5, 6, 7, 8, 9]\n"
          ]
        },
        {
          "output_type": "error",
          "ename": "TypeError",
          "evalue": "'tuple' object does not support item assignment",
          "traceback": [
            "\u001b[0;31m---------------------------------------------------------------------------\u001b[0m",
            "\u001b[0;31mTypeError\u001b[0m                                 Traceback (most recent call last)",
            "\u001b[0;32m<ipython-input-7-6439e0552762>\u001b[0m in \u001b[0;36m<cell line: 0>\u001b[0;34m()\u001b[0m\n\u001b[1;32m      5\u001b[0m \u001b[0mmy_list\u001b[0m\u001b[0;34m[\u001b[0m\u001b[0;36m2\u001b[0m\u001b[0;34m]\u001b[0m\u001b[0;34m=\u001b[0m\u001b[0;36m10\u001b[0m\u001b[0;34m\u001b[0m\u001b[0;34m\u001b[0m\u001b[0m\n\u001b[1;32m      6\u001b[0m \u001b[0mprint\u001b[0m\u001b[0;34m(\u001b[0m\u001b[0mmy_list\u001b[0m\u001b[0;34m)\u001b[0m\u001b[0;34m\u001b[0m\u001b[0;34m\u001b[0m\u001b[0m\n\u001b[0;32m----> 7\u001b[0;31m \u001b[0mmy_tuple\u001b[0m\u001b[0;34m[\u001b[0m\u001b[0;36m2\u001b[0m\u001b[0;34m]\u001b[0m\u001b[0;34m=\u001b[0m\u001b[0;36m10\u001b[0m\u001b[0;34m\u001b[0m\u001b[0;34m\u001b[0m\u001b[0m\n\u001b[0m\u001b[1;32m      8\u001b[0m \u001b[0mprint\u001b[0m\u001b[0;34m(\u001b[0m\u001b[0mmy_tuple\u001b[0m\u001b[0;34m)\u001b[0m\u001b[0;34m\u001b[0m\u001b[0;34m\u001b[0m\u001b[0m\n\u001b[1;32m      9\u001b[0m \u001b[0;34m\u001b[0m\u001b[0m\n",
            "\u001b[0;31mTypeError\u001b[0m: 'tuple' object does not support item assignment"
          ]
        }
      ]
    },
    {
      "cell_type": "code",
      "source": [
        "#8Write a program to demonstrate the use of logical operators\n",
        "x= True\n",
        "y= False\n",
        "print(x and y)\n",
        "print(x or y)\n",
        "print(not x)\n",
        "print(not y)\n",
        "\n"
      ],
      "metadata": {
        "id": "pGZ961-oehV-",
        "colab": {
          "base_uri": "https://localhost:8080/"
        },
        "outputId": "796028e0-42ef-4b31-d19c-0ad31cb4d515"
      },
      "execution_count": 2,
      "outputs": [
        {
          "output_type": "stream",
          "name": "stdout",
          "text": [
            "False\n",
            "True\n",
            "False\n",
            "True\n"
          ]
        }
      ]
    },
    {
      "cell_type": "code",
      "source": [
        "# 9 Write a Python program to convert user input from string to integer, float, and boolean types\n",
        "a=\"2\"\n",
        "type(a)\n"
      ],
      "metadata": {
        "colab": {
          "base_uri": "https://localhost:8080/"
        },
        "id": "44_cYIjPHK1B",
        "outputId": "f465ec12-5453-41e8-c062-6a158ade1a52"
      },
      "execution_count": 3,
      "outputs": [
        {
          "output_type": "execute_result",
          "data": {
            "text/plain": [
              "str"
            ]
          },
          "metadata": {},
          "execution_count": 3
        }
      ]
    },
    {
      "cell_type": "code",
      "source": [
        "print(type(a))\n",
        "print(type(int(a)))\n",
        "print(type(float(a)))\n"
      ],
      "metadata": {
        "colab": {
          "base_uri": "https://localhost:8080/"
        },
        "id": "dhPiY2WHH_FM",
        "outputId": "972bd74a-9db4-405a-9b68-8960955692de"
      },
      "execution_count": 4,
      "outputs": [
        {
          "output_type": "stream",
          "name": "stdout",
          "text": [
            "<class 'str'>\n",
            "<class 'int'>\n",
            "<class 'float'>\n"
          ]
        }
      ]
    },
    {
      "cell_type": "code",
      "source": [
        "my_input= input(\" give a string \")\n",
        "my_integer= int(my_input)\n",
        "my_float= float(my_input)\n",
        "my_boolean= bool(my_input)\n",
        "print(\"integer\",my_integer)\n",
        "print(\"float\",my_float)\n",
        "print(\"boolean\",my_boolean)"
      ],
      "metadata": {
        "colab": {
          "base_uri": "https://localhost:8080/"
        },
        "id": "gHyb9x18JDeP",
        "outputId": "c0d747be-acbb-4d9a-ff74-98929b2951ce"
      },
      "execution_count": 9,
      "outputs": [
        {
          "output_type": "stream",
          "name": "stdout",
          "text": [
            " give a string 2\n",
            "integer 2\n",
            "float 2.0\n",
            "boolean True\n"
          ]
        }
      ]
    },
    {
      "cell_type": "code",
      "source": [
        "# 10 Write code to demonstrate type casting with list elements\n",
        "my_list=[1,2,3,2.5,'true',\"hello\"]\n",
        "print(my_list)\n",
        "for item in my_list:\n",
        "  print(type(item))"
      ],
      "metadata": {
        "colab": {
          "base_uri": "https://localhost:8080/"
        },
        "id": "s_wHRI1hK8E2",
        "outputId": "087dfbb3-4e6b-4b1d-8ba2-77c51d4f8627"
      },
      "execution_count": 11,
      "outputs": [
        {
          "output_type": "stream",
          "name": "stdout",
          "text": [
            "[1, 2, 3, 2.5, 'true', 'hello']\n",
            "<class 'int'>\n",
            "<class 'int'>\n",
            "<class 'int'>\n",
            "<class 'float'>\n",
            "<class 'str'>\n",
            "<class 'str'>\n"
          ]
        }
      ]
    },
    {
      "cell_type": "code",
      "source": [
        "#11Write a program that checks if a number is positive, negative, or zero\n",
        "my_input= input(\"enter a number\")\n",
        "my_input=int(my_input)\n",
        "if my_input > 0:\n",
        "  print(\"postive\")\n",
        "elif my_input<0:\n",
        "    print(\"negative\")\n",
        "else:\n",
        "    print(\"number is zero\")"
      ],
      "metadata": {
        "colab": {
          "base_uri": "https://localhost:8080/"
        },
        "id": "XNtmWDKDMK8n",
        "outputId": "45fb3530-d709-4340-9ead-36f3e3b6cb01"
      },
      "execution_count": 15,
      "outputs": [
        {
          "output_type": "stream",
          "name": "stdout",
          "text": [
            "enter a number0\n",
            "number is zero\n"
          ]
        }
      ]
    },
    {
      "cell_type": "code",
      "source": [
        "#12 Write a for loop to print numbers from 1 to 10\n",
        "for i in range(1,11):\n",
        " print(i)"
      ],
      "metadata": {
        "colab": {
          "base_uri": "https://localhost:8080/"
        },
        "id": "9f4SZLxDO5Uw",
        "outputId": "b0c2f344-104d-4123-845a-57cae547ddaa"
      },
      "execution_count": 17,
      "outputs": [
        {
          "output_type": "stream",
          "name": "stdout",
          "text": [
            "1\n",
            "2\n",
            "3\n",
            "4\n",
            "5\n",
            "6\n",
            "7\n",
            "8\n",
            "9\n",
            "10\n"
          ]
        }
      ]
    },
    {
      "cell_type": "code",
      "source": [
        "#Write a Python program to find the sum of all even numbers between 1 and 50\n"
      ],
      "metadata": {
        "id": "Vu41n03tPjbf"
      },
      "execution_count": 46,
      "outputs": []
    },
    {
      "cell_type": "code",
      "source": [
        "total_sum=0\n",
        "for i in range(51):\n",
        " if i%2!=0:\n",
        "  continue\n",
        "\n",
        " total_sum+=i\n",
        "\n",
        " print(total_sum)"
      ],
      "metadata": {
        "colab": {
          "base_uri": "https://localhost:8080/"
        },
        "id": "9VgtVnzgT7Rf",
        "outputId": "a795f105-bed5-4f5b-861e-cc8867946956"
      },
      "execution_count": 44,
      "outputs": [
        {
          "output_type": "stream",
          "name": "stdout",
          "text": [
            "0\n",
            "2\n",
            "6\n",
            "12\n",
            "20\n",
            "30\n",
            "42\n",
            "56\n",
            "72\n",
            "90\n",
            "110\n",
            "132\n",
            "156\n",
            "182\n",
            "210\n",
            "240\n",
            "272\n",
            "306\n",
            "342\n",
            "380\n",
            "420\n",
            "462\n",
            "506\n",
            "552\n",
            "600\n",
            "650\n"
          ]
        }
      ]
    },
    {
      "cell_type": "code",
      "source": [
        "#14Write a program to reverse a string using a while loop\n",
        "\n"
      ],
      "metadata": {
        "colab": {
          "base_uri": "https://localhost:8080/"
        },
        "id": "v34SBaeMYs5T",
        "outputId": "3863eefe-f49f-4b17-8285-c056328554b0"
      },
      "execution_count": 48,
      "outputs": [
        {
          "name": "stdout",
          "output_type": "stream",
          "text": [
            "Enter the name: abin\n"
          ]
        }
      ]
    },
    {
      "cell_type": "code",
      "source": [
        "#15 Write a Python program to calculate the factorial of a number provided by the user using a while\n",
        "."
      ],
      "metadata": {
        "id": "FTGlSqPqazzM"
      },
      "execution_count": null,
      "outputs": []
    }
  ]
}